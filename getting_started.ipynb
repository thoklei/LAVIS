{
 "cells": [
  {
   "cell_type": "markdown",
   "metadata": {},
   "source": [
    "Just getting started with LAVIS, delete this at some point!\n",
    "\n",
    "Checking if random crops of varying sizes of ImageNet-images can even be described well, or if we just get garbage out..."
   ]
  },
  {
   "cell_type": "code",
   "execution_count": null,
   "metadata": {},
   "outputs": [],
   "source": [
    "import torch\n",
    "import torchvision\n",
    "import numpy as np\n",
    "import torchvision.transforms as transforms\n",
    "from PIL import Image\n",
    "\n",
    "from lavis.models import load_model_and_preprocess\n",
    "\n",
    "# setup device to use\n",
    "device = torch.device(\"cuda\" if torch.cuda.is_available() else \"cpu\")\n"
   ]
  },
  {
   "cell_type": "code",
   "execution_count": null,
   "metadata": {},
   "outputs": [],
   "source": [
    "IMAGENET_PATH = \"/mnt/qb/datasets/ImageNet2012/\"\n",
    "\n",
    "def get_random_crops(target_dir, n_batches):\n",
    "\n",
    "    os.makedirs(target_dir, exist_ok=False)\n",
    "\n",
    "    test_transform = transforms.Compose([\n",
    "        transforms.ToTensor(),\n",
    "        transforms.RandomCrop(128),\n",
    "        # transforms.Normalize(mean=[0.485, 0.456, 0.406], std=[0.229, 0.224, 0.225]),\n",
    "    ])\n",
    "\n",
    "    testset = torchvision.datasets.ImageNet(root=IMAGENET_PATH, split='val', transform=test_transform)\n",
    " \n",
    "    testloader = torch.utils.data.DataLoader(testset, batch_size=32, shuffle=True, pin_memory=True, num_workers=8)\n",
    "\n",
    "    topil = transforms.ToPILImage()\n",
    "\n",
    "    idx = 0\n",
    "    for imgs, _ in testloader:\n",
    "\n",
    "        for i in range(32):\n",
    "            img = topil(imgs[i,:,:,:])\n",
    "            img.save(os.path.join(target_dir, str(i)+\".png\"))\n",
    "\n",
    "        idx += 1\n",
    "        if idx >= n_batches:\n",
    "            break\n",
    "\n",
    "get_random_crops(\"test_images_128\", 1)\n"
   ]
  },
  {
   "cell_type": "code",
   "execution_count": null,
   "metadata": {},
   "outputs": [],
   "source": [
    "# loads BLIP caption base model, with finetuned checkpoints on MSCOCO captioning dataset.\n",
    "# this also loads the associated image processors\n",
    "model, vis_processors, _ = load_model_and_preprocess(name=\"blip_caption\", model_type=\"base_coco\", is_eval=True, device=device)\n"
   ]
  },
  {
   "cell_type": "code",
   "execution_count": null,
   "metadata": {},
   "outputs": [],
   "source": [
    "# load sample image\n",
    "# raw_image = Image.open(\"docs/_static/merlion.png\").convert(\"RGB\")\n",
    "\n",
    "def caption_img(img_path):\n",
    "\n",
    "    raw_image = Image.open(img_path).convert(\"RGB\")\n",
    "    # preprocess the image\n",
    "    # vis_processors stores image transforms for \"train\" and \"eval\" (validation / testing / inference)\n",
    "    image = vis_processors[\"eval\"](raw_image).unsqueeze(0).to(device)\n",
    "\n",
    "    # generate caption\n",
    "    return model.generate({\"image\": image}), raw_image\n",
    "    # ['a large fountain spewing water into the air']"
   ]
  },
  {
   "cell_type": "code",
   "execution_count": null,
   "metadata": {},
   "outputs": [],
   "source": [
    "import os\n",
    "\n",
    "def caption_dir(dir):\n",
    "    root, dirs, files = next(os.walk(dir))\n",
    "    res = {}\n",
    "    for file in files:\n",
    "        caption, raw_image = caption_img(os.path.join(root, file))\n",
    "        res[file[:-4]] = caption, raw_image\n",
    "\n",
    "    return res"
   ]
  },
  {
   "cell_type": "code",
   "execution_count": null,
   "metadata": {},
   "outputs": [],
   "source": [
    "import matplotlib.pyplot as plt \n",
    "\n",
    "img_dir = \"test_images_128\"\n",
    "out_dir = img_dir + \"_output\"\n",
    "\n",
    "os.makedirs(out_dir, exist_ok=True)\n",
    "\n",
    "captions = caption_dir(img_dir)\n",
    "\n",
    "for name, (caption, img) in captions.items():\n",
    "\n",
    "    fig = plt.figure()\n",
    "    plt.title(caption[0])\n",
    "    fig.set_facecolor(\"white\")\n",
    "    plt.imshow(img)\n",
    "    plt.savefig(os.path.join(out_dir, name+\".png\"), transparent=False)\n",
    "    plt.show()\n",
    "    plt.close()\n"
   ]
  },
  {
   "cell_type": "code",
   "execution_count": null,
   "metadata": {},
   "outputs": [],
   "source": [
    "print(captions[\"4\"])"
   ]
  },
  {
   "cell_type": "code",
   "execution_count": null,
   "metadata": {},
   "outputs": [],
   "source": []
  }
 ],
 "metadata": {
  "kernelspec": {
   "display_name": "Python 3.8.16 ('transparent_neurons')",
   "language": "python",
   "name": "python3"
  },
  "language_info": {
   "codemirror_mode": {
    "name": "ipython",
    "version": 3
   },
   "file_extension": ".py",
   "mimetype": "text/x-python",
   "name": "python",
   "nbconvert_exporter": "python",
   "pygments_lexer": "ipython3",
   "version": "3.8.16"
  },
  "orig_nbformat": 4,
  "vscode": {
   "interpreter": {
    "hash": "c1225e97f063da78c3313eb6ada8ea971d3a75951a5e70907a2a5f93e75b6efc"
   }
  }
 },
 "nbformat": 4,
 "nbformat_minor": 2
}
